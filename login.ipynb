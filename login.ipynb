{
 "cells": [
  {
   "cell_type": "code",
   "execution_count": 25,
   "metadata": {},
   "outputs": [
    {
     "name": "stdout",
     "output_type": "stream",
     "text": [
      "Found Database: 中國基本古籍庫V8.0, Logging in...\n",
      "_____________________________________________________________________________\n",
      "Could not find the database with 中國基本古籍庫V8.0 \n",
      "text or database is FULL!\n"
     ]
    }
   ],
   "source": [
    "from selenium import webdriver\n",
    "from selenium.webdriver.common.by import By\n",
    "from selenium.webdriver.support.ui import WebDriverWait\n",
    "from selenium.webdriver.support import expected_conditions as EC\n",
    "\n",
    "class driver_login():\n",
    "    def __init__(self, login_url=\"http://server.wenzibase.com/\", headless=False):\n",
    "        '''\n",
    "        Instantiates a new driver(for webscraping) to login into the specified url(database)\n",
    "        '''\n",
    "        self.options = webdriver.ChromeOptions()\n",
    "        if (headless):\n",
    "            self.options.add_argument(\"--headless\") # If headless, you WILL NOT see the UI of the webpage\n",
    "        self.options.add_argument(f\"user-agent=Mozilla/5.0 (Windows NT 10.0; Win64; x64) AppleWebKit/537.36 (KHTML, like Gecko) Chrome/97.0.4692.71 Safari/537.36\")\n",
    "        self.driver = webdriver.Chrome(options=self.options)\n",
    "        self.login_url = login_url\n",
    "    def login(self):\n",
    "        \"\"\"\n",
    "        Driver clicks on the login button\n",
    "        \"\"\"\n",
    "        self.driver.get(self.login_url)\n",
    "        try:\n",
    "            login_button = WebDriverWait(self.driver, 10).until(EC.presence_of_element_located((By.XPATH, \"//img[contains(@onclick, 'login()')]\")))\n",
    "            login_button.click()\n",
    "        except:\n",
    "            print(\"___________________________________________\")\n",
    "            print(\"Could not login: Too Many People On Server\")\n",
    "            \n",
    "    def find_database(self, text_to_match=\"中國基本古籍庫V8.0\"):\n",
    "        \"\"\"\n",
    "        Driver attempts to find the specified chinese database,\n",
    "        if no arguments entered, defaulted to Chinese v8.0\n",
    "        \"\"\"\n",
    "        try:\n",
    "            print(f\"Found Database: {text_to_match}, Logging in...\")\n",
    "            element_with_text = WebDriverWait(self.driver, 10).until(\n",
    "                EC.element_to_be_clickable((By.XPATH, f\"//span[text()='{text_to_match}']\"))\n",
    "            )\n",
    "            self.driver.execute_script(\"arguments[0].click();\", element_with_text)\n",
    "\n",
    "            skip_welcome_element = WebDriverWait(self.driver, 30).until(\n",
    "                EC.element_to_be_clickable((By.ID, \"ms_ok\"))\n",
    "            )\n",
    "            self.driver.execute_script(\"arguments[0].click();\", skip_welcome_element)\n",
    "\n",
    "        except:\n",
    "            print(\"_____________________________________________________________________________\")\n",
    "            print(f\"Could not find the database with {text_to_match} \\ntext or database is FULL!\")\n",
    "            \n",
    "\n",
    "if __name__ == \"__main__\":\n",
    "    # THIS CLASS IS ONLY FOR LOGGING INTO THE DB\n",
    "    db = driver_login(headless=False) # Set Headless to False if you want to see whats happening when logging in\n",
    "    db.login()\n",
    "    db.find_database()"
   ]
  }
 ],
 "metadata": {
  "kernelspec": {
   "display_name": ".venv",
   "language": "python",
   "name": "python3"
  },
  "language_info": {
   "codemirror_mode": {
    "name": "ipython",
    "version": 3
   },
   "file_extension": ".py",
   "mimetype": "text/x-python",
   "name": "python",
   "nbconvert_exporter": "python",
   "pygments_lexer": "ipython3",
   "version": "3.11.2"
  },
  "orig_nbformat": 4,
  "vscode": {
   "interpreter": {
    "hash": "bc7404629e8bc17a8ad291d646202374013edef5d64899dae71ca3865147cd46"
   }
  }
 },
 "nbformat": 4,
 "nbformat_minor": 2
}
